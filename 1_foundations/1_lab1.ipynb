{
 "cells": [
  {
   "cell_type": "markdown",
   "metadata": {},
   "source": [
    "# Welcome to the start of your adventure in Agentic AI"
   ]
  },
  {
   "cell_type": "markdown",
   "metadata": {},
   "source": [
    "<table style=\"margin: 0; text-align: left; width:100%\">\n",
    "    <tr>\n",
    "        <td style=\"width: 150px; height: 150px; vertical-align: middle;\">\n",
    "            <img src=\"../assets/stop.png\" width=\"150\" height=\"150\" style=\"display: block;\" />\n",
    "        </td>\n",
    "        <td>\n",
    "            <h2 style=\"color:#ff7800;\">Are you ready for action??</h2>\n",
    "            <span style=\"color:#ff7800;\">Have you completed all the setup steps in the <a href=\"../setup/\">setup</a> folder?<br/>\n",
    "            Have you read the <a href=\"../README.md\">README</a>? Many common questions are answered here!<br/>\n",
    "            Have you checked out the guides in the <a href=\"../guides/01_intro.ipynb\">guides</a> folder?<br/>\n",
    "            Well in that case, you're ready!!\n",
    "            </span>\n",
    "        </td>\n",
    "    </tr>\n",
    "</table>"
   ]
  },
  {
   "cell_type": "markdown",
   "metadata": {},
   "source": [
    "<table style=\"margin: 0; text-align: left; width:100%\">\n",
    "    <tr>\n",
    "        <td style=\"width: 150px; height: 150px; vertical-align: middle;\">\n",
    "            <img src=\"../assets/tools.png\" width=\"150\" height=\"150\" style=\"display: block;\" />\n",
    "        </td>\n",
    "        <td>\n",
    "            <h2 style=\"color:#00bfff;\">This code is a live resource - keep an eye out for my updates</h2>\n",
    "            <span style=\"color:#00bfff;\">I push updates regularly. As people ask questions or have problems, I add more examples and improve explanations. As a result, the code below might not be identical to the videos, as I've added more steps and better comments. Consider this like an interactive book that accompanies the lectures.<br/><br/>\n",
    "            I try to send emails regularly with important updates related to the course. You can find this in the 'Announcements' section of Udemy in the left sidebar. You can also choose to receive my emails via your Notification Settings in Udemy. I'm respectful of your inbox and always try to add value with my emails!\n",
    "            </span>\n",
    "        </td>\n",
    "    </tr>\n",
    "</table>"
   ]
  },
  {
   "cell_type": "markdown",
   "metadata": {},
   "source": [
    "### And please do remember to contact me if I can help\n",
    "\n",
    "And I love to connect: https://www.linkedin.com/in/eddonner/\n",
    "\n",
    "\n",
    "### New to Notebooks like this one? Head over to the guides folder!\n",
    "\n",
    "Just to check you've already added the Python and Jupyter extensions to Cursor, if not already installed:\n",
    "- Open extensions (View >> extensions)\n",
    "- Search for python, and when the results show, click on the ms-python one, and Install it if not already installed\n",
    "- Search for jupyter, and when the results show, click on the Microsoft one, and Install it if not already installed  \n",
    "Then View >> Explorer to bring back the File Explorer.\n",
    "\n",
    "And then:\n",
    "1. Click where it says \"Select Kernel\" near the top right, and select the option called `.venv (Python 3.12.9)` or similar, which should be the first choice or the most prominent choice. You may need to choose \"Python Environments\" first.\n",
    "2. Click in each \"cell\" below, starting with the cell immediately below this text, and press Shift+Enter to run\n",
    "3. Enjoy!\n",
    "\n",
    "After you click \"Select Kernel\", if there is no option like `.venv (Python 3.12.9)` then please do the following:  \n",
    "1. On Mac: From the Cursor menu, choose Settings >> VS Code Settings (NOTE: be sure to select `VSCode Settings` not `Cursor Settings`);  \n",
    "On Windows PC: From the File menu, choose Preferences >> VS Code Settings(NOTE: be sure to select `VSCode Settings` not `Cursor Settings`)  \n",
    "2. In the Settings search bar, type \"venv\"  \n",
    "3. In the field \"Path to folder with a list of Virtual Environments\" put the path to the project root, like C:\\Users\\username\\projects\\agents (on a Windows PC) or /Users/username/projects/agents (on Mac or Linux).  \n",
    "And then try again.\n",
    "\n",
    "Having problems with missing Python versions in that list? Have you ever used Anaconda before? It might be interferring. Quit Cursor, bring up a new command line, and make sure that your Anaconda environment is deactivated:    \n",
    "`conda deactivate`  \n",
    "And if you still have any problems with conda and python versions, it's possible that you will need to run this too:  \n",
    "`conda config --set auto_activate_base false`  \n",
    "and then from within the Agents directory, you should be able to run `uv python list` and see the Python 3.12 version."
   ]
  },
  {
   "cell_type": "code",
   "execution_count": 57,
   "metadata": {},
   "outputs": [],
   "source": [
    "# First let's do an import. If you get an Import Error, double check that your Kernel is correct..\n",
    "\n",
    "from dotenv import load_dotenv\n"
   ]
  },
  {
   "cell_type": "code",
   "execution_count": 62,
   "metadata": {},
   "outputs": [
    {
     "data": {
      "text/plain": [
       "True"
      ]
     },
     "execution_count": 62,
     "metadata": {},
     "output_type": "execute_result"
    }
   ],
   "source": [
    "# Next it's time to load the API keys into environment variables\n",
    "# If this returns false, see the next cell!\n",
    "\n",
    "load_dotenv(override=True)"
   ]
  },
  {
   "cell_type": "markdown",
   "metadata": {},
   "source": [
    "### Wait, did that just output `False`??\n",
    "\n",
    "If so, the most common reason is that you didn't save your `.env` file after adding the key! Be sure to have saved.\n",
    "\n",
    "Also, make sure the `.env` file is named precisely `.env` and is in the project root directory (`agents`)\n",
    "\n",
    "By the way, your `.env` file should have a stop symbol next to it in Cursor on the left, and that's actually a good thing: that's Cursor saying to you, \"hey, I realize this is a file filled with secret information, and I'm not going to send it to an external AI to suggest changes, because your keys should not be shown to anyone else.\""
   ]
  },
  {
   "cell_type": "markdown",
   "metadata": {},
   "source": [
    "<table style=\"margin: 0; text-align: left; width:100%\">\n",
    "    <tr>\n",
    "        <td style=\"width: 150px; height: 150px; vertical-align: middle;\">\n",
    "            <img src=\"../assets/stop.png\" width=\"150\" height=\"150\" style=\"display: block;\" />\n",
    "        </td>\n",
    "        <td>\n",
    "            <h2 style=\"color:#ff7800;\">Final reminders</h2>\n",
    "            <span style=\"color:#ff7800;\">1. If you're not confident about Environment Variables or Web Endpoints / APIs, please read Topics 3 and 5 in this <a href=\"../guides/04_technical_foundations.ipynb\">technical foundations guide</a>.<br/>\n",
    "            2. If you want to use AIs other than OpenAI, like Gemini, DeepSeek or Ollama (free), please see the first section in this <a href=\"../guides/09_ai_apis_and_ollama.ipynb\">AI APIs guide</a>.<br/>\n",
    "            3. If you ever get a Name Error in Python, you can always fix it immediately; see the last section of this <a href=\"../guides/06_python_foundations.ipynb\">Python Foundations guide</a> and follow both tutorials and exercises.<br/>\n",
    "            </span>\n",
    "        </td>\n",
    "    </tr>\n",
    "</table>"
   ]
  },
  {
   "cell_type": "code",
   "execution_count": 63,
   "metadata": {},
   "outputs": [
    {
     "name": "stdout",
     "output_type": "stream",
     "text": [
      "OpenAI API Key exists and begins AIzaSyCK\n"
     ]
    }
   ],
   "source": [
    "# Check the key - if you're not using OpenAI, check whichever key you're using! Ollama doesn't need a key.\n",
    "\n",
    "import os\n",
    "openai_api_key = os.getenv('GOOGLE_API_KEY')\n",
    "\n",
    "if openai_api_key:\n",
    "    print(f\"OpenAI API Key exists and begins {openai_api_key[:8]}\")\n",
    "else:\n",
    "    print(\"OpenAI API Key not set - please head to the troubleshooting guide in the setup folder\")\n",
    "    \n"
   ]
  },
  {
   "cell_type": "code",
   "execution_count": 64,
   "metadata": {},
   "outputs": [],
   "source": [
    "# And now - the all important import statement\n",
    "# If you get an import error - head over to troubleshooting in the Setup folder\n",
    "\n",
    "from openai import OpenAI"
   ]
  },
  {
   "cell_type": "code",
   "execution_count": 65,
   "metadata": {},
   "outputs": [],
   "source": [
    "# And now we'll create an instance of the OpenAI class\n",
    "# If you're not sure what it means to create an instance of a class - head over to the guides folder!\n",
    "# If you get a NameError - head over to the guides folder to learn about NameErrors\n",
    "\n",
    "openai = OpenAI(base_url='https://generativelanguage.googleapis.com/v1beta/openai/', api_key=openai_api_key)"
   ]
  },
  {
   "cell_type": "code",
   "execution_count": 71,
   "metadata": {},
   "outputs": [],
   "source": [
    "# Create a list of messages in the familiar OpenAI format\n",
    "\n",
    "messages = [{\"role\": \"user\", \"content\": \"What is 2+2?\"}]"
   ]
  },
  {
   "cell_type": "code",
   "execution_count": 72,
   "metadata": {},
   "outputs": [
    {
     "name": "stdout",
     "output_type": "stream",
     "text": [
      "2 + 2 = 4\n",
      "\n"
     ]
    }
   ],
   "source": [
    "# And now call it! Any problems, head to the troubleshooting guide\n",
    "# This uses GPT 4.1 nano, the incredibly cheap model\n",
    "# The APIs guide (guide 9) has exact instructions for using even cheaper or free alternatives to OpenAI\n",
    "# If you get a NameError, head to the guides folder (guide 6) to learn about NameErrors - always instantly fixable\n",
    "\n",
    "response = openai.chat.completions.create(\n",
    "    model=\"gemini-2.0-flash\",\n",
    "    messages=messages\n",
    ")\n",
    "\n",
    "print(response.choices[0].message.content)\n"
   ]
  },
  {
   "cell_type": "code",
   "execution_count": 68,
   "metadata": {},
   "outputs": [],
   "source": [
    "# And now - let's ask for a question:\n",
    "\n",
    "question = \"Please propose a hard, challenging question to assess someone's IQ. Respond only with the question.\"\n",
    "messages = [{\"role\": \"user\", \"content\": question}]\n"
   ]
  },
  {
   "cell_type": "code",
   "execution_count": null,
   "metadata": {},
   "outputs": [],
   "source": [
    "# ask it - this uses GPT 4.1 mini, still cheap but more powerful than nano\n",
    "\n",
    "response = openai.chat.completions.create(\n",
    "    model=\"gemini-2.5-flash\",\n",
    "    messages=messages\n",
    ")\n",
    "\n",
    "question = response.choices[0].message.content\n",
    "\n",
    "print(question)\n"
   ]
  },
  {
   "cell_type": "code",
   "execution_count": 73,
   "metadata": {},
   "outputs": [],
   "source": [
    "# form a new messages list\n",
    "messages = [{\"role\": \"user\", \"content\": question}]\n"
   ]
  },
  {
   "cell_type": "code",
   "execution_count": 75,
   "metadata": {},
   "outputs": [
    {
     "name": "stdout",
     "output_type": "stream",
     "text": [
      "Let's analyze the pattern by considering two attributes for each cell: the **shape type** (Circle, Triangle, Square) and the **fill type** (Solid Black, Empty White).\n",
      "\n",
      "Here's the grid with attributes:\n",
      "*   (1,1): (Circle, Solid Black)\n",
      "*   (1,2): (Triangle, Empty White)\n",
      "*   (1,3): (Square, Solid Black)\n",
      "\n",
      "*   (2,1): (Triangle, Empty White)\n",
      "*   (2,2): (Square, Solid Black)\n",
      "*   (2,3): (Circle, Empty White)\n",
      "\n",
      "*   (3,1): (Square, Solid Black)\n",
      "*   (3,2): (Circle, Empty White)\n",
      "*   (3,3): [Missing]\n",
      "\n",
      "---\n",
      "\n",
      "**1. Pattern for Shape Type:**\n",
      "\n",
      "Let's examine the shapes in each row and column:\n",
      "\n",
      "*   **Row 1:** Circle, Triangle, Square. (All three shapes are present)\n",
      "*   **Row 2:** Triangle, Square, Circle. (All three shapes are present)\n",
      "*   **Row 3:** Square, Circle, [Missing Shape Type].\n",
      "\n",
      "Since Row 1 and Row 2 contain all three unique shape types, it's highly probable that Row 3 also follows this pattern. With a Square and a Circle already present, the missing shape type for (3,3) must be a **Triangle**.\n",
      "\n",
      "Let's confirm this with columns:\n",
      "*   **Column 1:** Circle, Triangle, Square. (All three shapes are present)\n",
      "*   **Column 2:** Triangle, Square, Circle. (All three shapes are present)\n",
      "*   **Column 3:** Square, Circle, [Missing Shape Type].\n",
      "\n",
      "Similarly, Column 3, having a Square and a Circle, must complete the set with a **Triangle**.\n",
      "\n",
      "So, the shape at (3,3) is a **Triangle**.\n",
      "\n",
      "---\n",
      "\n",
      "**2. Pattern for Fill Type:**\n",
      "\n",
      "Let's analyze the fill types (Solid Black 'SB', Empty White 'EW') in each row and column:\n",
      "\n",
      "*   **Row 1:** SB, EW, SB (Count: 2 SB, 1 EW)\n",
      "*   **Row 2:** EW, SB, EW (Count: 1 SB, 2 EW)\n",
      "*   **Row 3:** SB, EW, [Missing Fill Type].\n",
      "\n",
      "Observe the alternating pattern in the counts of fill types: Row 1 has more SB (2 SB), Row 2 has more EW (2 EW). Following this pattern, Row 3 should resemble Row 1, having more SB (2 SB).\n",
      "Currently, Row 3 has SB (from 3,1) and EW (from 3,2). To make it 2 SB and 1 EW, the missing fill type at (3,3) must be **Solid Black**.\n",
      "\n",
      "Let's confirm this with columns:\n",
      "*   **Column 1:** SB, EW, SB (Count: 2 SB, 1 EW)\n",
      "*   **Column 2:** EW, SB, EW (Count: 1 SB, 2 EW)\n",
      "*   **Column 3:** SB, EW, [Missing Fill Type].\n",
      "\n",
      "Similar to the rows, Column 1 has more SB (2 SB), Column 2 has more EW (2 EW). Following this pattern, Column 3 should resemble Column 1, having more SB (2 SB).\n",
      "Currently, Column 3 has SB (from 1,3) and EW (from 2,3). To make it 2 SB and 1 EW, the missing fill type at (3,3) must be **Solid Black**.\n",
      "\n",
      "Both row and column patterns for fill type consistently indicate that the missing cell (3,3) should contain a **Solid Black** shape.\n",
      "\n",
      "---\n",
      "\n",
      "**Conclusion:**\n",
      "\n",
      "Based on the analysis, the missing cell (3,3) must contain a **Triangle** as its shape and be **Solid Black** as its fill.\n",
      "\n",
      "Therefore, the content of the missing cell (3,3) is: **A square containing a solid black triangle.**\n"
     ]
    }
   ],
   "source": [
    "# Ask it again\n",
    "\n",
    "response = openai.chat.completions.create(\n",
    "    model=\"gemini-2.5-flash\",\n",
    "    messages=messages\n",
    ")\n",
    "\n",
    "answer = response.choices[0].message.content\n",
    "print(answer)\n"
   ]
  },
  {
   "cell_type": "code",
   "execution_count": 76,
   "metadata": {},
   "outputs": [
    {
     "data": {
      "text/markdown": [
       "Let's analyze the pattern by considering two attributes for each cell: the **shape type** (Circle, Triangle, Square) and the **fill type** (Solid Black, Empty White).\n",
       "\n",
       "Here's the grid with attributes:\n",
       "*   (1,1): (Circle, Solid Black)\n",
       "*   (1,2): (Triangle, Empty White)\n",
       "*   (1,3): (Square, Solid Black)\n",
       "\n",
       "*   (2,1): (Triangle, Empty White)\n",
       "*   (2,2): (Square, Solid Black)\n",
       "*   (2,3): (Circle, Empty White)\n",
       "\n",
       "*   (3,1): (Square, Solid Black)\n",
       "*   (3,2): (Circle, Empty White)\n",
       "*   (3,3): [Missing]\n",
       "\n",
       "---\n",
       "\n",
       "**1. Pattern for Shape Type:**\n",
       "\n",
       "Let's examine the shapes in each row and column:\n",
       "\n",
       "*   **Row 1:** Circle, Triangle, Square. (All three shapes are present)\n",
       "*   **Row 2:** Triangle, Square, Circle. (All three shapes are present)\n",
       "*   **Row 3:** Square, Circle, [Missing Shape Type].\n",
       "\n",
       "Since Row 1 and Row 2 contain all three unique shape types, it's highly probable that Row 3 also follows this pattern. With a Square and a Circle already present, the missing shape type for (3,3) must be a **Triangle**.\n",
       "\n",
       "Let's confirm this with columns:\n",
       "*   **Column 1:** Circle, Triangle, Square. (All three shapes are present)\n",
       "*   **Column 2:** Triangle, Square, Circle. (All three shapes are present)\n",
       "*   **Column 3:** Square, Circle, [Missing Shape Type].\n",
       "\n",
       "Similarly, Column 3, having a Square and a Circle, must complete the set with a **Triangle**.\n",
       "\n",
       "So, the shape at (3,3) is a **Triangle**.\n",
       "\n",
       "---\n",
       "\n",
       "**2. Pattern for Fill Type:**\n",
       "\n",
       "Let's analyze the fill types (Solid Black 'SB', Empty White 'EW') in each row and column:\n",
       "\n",
       "*   **Row 1:** SB, EW, SB (Count: 2 SB, 1 EW)\n",
       "*   **Row 2:** EW, SB, EW (Count: 1 SB, 2 EW)\n",
       "*   **Row 3:** SB, EW, [Missing Fill Type].\n",
       "\n",
       "Observe the alternating pattern in the counts of fill types: Row 1 has more SB (2 SB), Row 2 has more EW (2 EW). Following this pattern, Row 3 should resemble Row 1, having more SB (2 SB).\n",
       "Currently, Row 3 has SB (from 3,1) and EW (from 3,2). To make it 2 SB and 1 EW, the missing fill type at (3,3) must be **Solid Black**.\n",
       "\n",
       "Let's confirm this with columns:\n",
       "*   **Column 1:** SB, EW, SB (Count: 2 SB, 1 EW)\n",
       "*   **Column 2:** EW, SB, EW (Count: 1 SB, 2 EW)\n",
       "*   **Column 3:** SB, EW, [Missing Fill Type].\n",
       "\n",
       "Similar to the rows, Column 1 has more SB (2 SB), Column 2 has more EW (2 EW). Following this pattern, Column 3 should resemble Column 1, having more SB (2 SB).\n",
       "Currently, Column 3 has SB (from 1,3) and EW (from 2,3). To make it 2 SB and 1 EW, the missing fill type at (3,3) must be **Solid Black**.\n",
       "\n",
       "Both row and column patterns for fill type consistently indicate that the missing cell (3,3) should contain a **Solid Black** shape.\n",
       "\n",
       "---\n",
       "\n",
       "**Conclusion:**\n",
       "\n",
       "Based on the analysis, the missing cell (3,3) must contain a **Triangle** as its shape and be **Solid Black** as its fill.\n",
       "\n",
       "Therefore, the content of the missing cell (3,3) is: **A square containing a solid black triangle.**"
      ],
      "text/plain": [
       "<IPython.core.display.Markdown object>"
      ]
     },
     "metadata": {},
     "output_type": "display_data"
    }
   ],
   "source": [
    "from IPython.display import Markdown, display\n",
    "\n",
    "display(Markdown(answer))\n",
    "\n"
   ]
  },
  {
   "cell_type": "markdown",
   "metadata": {},
   "source": [
    "# Congratulations!\n",
    "\n",
    "That was a small, simple step in the direction of Agentic AI, with your new environment!\n",
    "\n",
    "Next time things get more interesting..."
   ]
  },
  {
   "cell_type": "markdown",
   "metadata": {},
   "source": [
    "<table style=\"margin: 0; text-align: left; width:100%\">\n",
    "    <tr>\n",
    "        <td style=\"width: 150px; height: 150px; vertical-align: middle;\">\n",
    "            <img src=\"../assets/exercise.png\" width=\"150\" height=\"150\" style=\"display: block;\" />\n",
    "        </td>\n",
    "        <td>\n",
    "            <h2 style=\"color:#ff7800;\">Exercise</h2>\n",
    "            <span style=\"color:#ff7800;\">Now try this commercial application:<br/>\n",
    "            First ask the LLM to pick a business area that might be worth exploring for an Agentic AI opportunity.<br/>\n",
    "            Then ask the LLM to present a pain-point in that industry - something challenging that might be ripe for an Agentic solution.<br/>\n",
    "            Finally have 3 third LLM call propose the Agentic AI solution. <br/>\n",
    "            We will cover this at up-coming labs, so don't worry if you're unsure.. just give it a try!\n",
    "            </span>\n",
    "        </td>\n",
    "    </tr>\n",
    "</table>"
   ]
  },
  {
   "cell_type": "code",
   "execution_count": 7,
   "metadata": {},
   "outputs": [],
   "source": [
    "import os\n",
    "openai_api_key = os.getenv('GOOGLE_API_KEY')\n",
    "from openai import OpenAI\n",
    "openai = OpenAI(base_url='https://generativelanguage.googleapis.com/v1beta/openai/', api_key=openai_api_key)\n",
    "\n",
    "# First create the messages:\n",
    "\n",
    "messages = [{\"role\": \"user\", \"content\": \"Pick a business area that might be worth exploring for an Agentic AI opportunity\"}]\n",
    "\n",
    "# Then make the first call:\n",
    "\n",
    "response = openai.chat.completions.create(\n",
    "    model=\"gemini-2.5-flash\",\n",
    "    messages=messages\n",
    ")\n",
    "# Then read the business idea:\n",
    "\n",
    "business_idea = response.choices[0].message.content\n",
    "\n",
    "# And repeat!\n",
    "\n",
    "pain_point = \"Present a pain-point in that industry - something challening that might ripe for an Agentic AI solution\"\n",
    "messages.append({\"role\": \"user\", \"content\": pain_point})\n",
    "\n",
    "response = openai.chat.completions.create(\n",
    "    model=\"gemini-2.5-flash\",\n",
    "    messages=messages\n",
    ")\n",
    "pain_point = response.choices[0].message.content\n",
    "\n",
    "# Propose the agentic AI solution\n",
    "\n",
    "agentic_ai_solution = \"Propose the agentic AI solution\"\n",
    "messages.append({\"role\": \"assistant\", \"content\": agentic_ai_solution})\n",
    "\n",
    "response = openai.chat.completions.create(\n",
    "    model=\"gemini-2.5-flash\",\n",
    "    messages=messages\n",
    ")\n",
    "\n",
    "agentic_ai_solution = response.choices[0].message.content\n"
   ]
  },
  {
   "cell_type": "code",
   "execution_count": 8,
   "metadata": {},
   "outputs": [
    {
     "data": {
      "text/markdown": [
       " concept itself.\n",
       "Explain how the agentic AI solution concept addresses the pain-point.\n",
       "What is agentic AI (a brief definition)?\n",
       "How does it differ from traditional AI approaches (e.g. LLMs for summarization, image generation)?\n",
       "What are the benefits and challenges of this approach?\n",
       "\n",
       "Structure your answer clearly, using headings for each section.Let's explore a business area ripe for Agentic AI.\n",
       "\n",
       "## Business Area: Enterprise Customer Success & Proactive Churn Prevention in B2B SaaS\n",
       "\n",
       "### The Pain Point: Reactive, Fragmented, and Scalability-Challenged Customer Issue Resolution\n",
       "\n",
       "In the B2B SaaS world, customer success is paramount. Retaining high-value enterprise clients often involves navigating incredibly complex and multi-faceted issues. The current pain points are:\n",
       "\n",
       "1.  **Reactive firefighting:** Most customer issues are identified *after* they've escalated (e.g., a critical feature stops working, a user complains loudly, usage drops significantly). Customer Success Managers (CSMs) spend too much time reacting to problems rather than proactively preventing them.\n",
       "2.  **Fragmented data and insights:** Customer health is assessed from disparate sources: support tickets, usage logs, sentiment analysis from calls, billing data, product release notes, technical alerts, sales notes. It's incredibly challenging for a human CSM to synthesize all this data in real-time to identify subtle patterns indicating impending issues or churn risk.\n",
       "3.  **Cross-functional coordination bottleneck:** Resolving a complex enterprise issue often requires coordinating with multiple internal teams: engineering, product, support, sales, billing, and even legal. This involves opening tickets in various systems, scheduling meetings, synthesizing information, and following up – a manual, time-consuming, and error-prone process.\n",
       "4.  **Scalability limitations:** As a SaaS company grows, the number of enterprise customers increases, but the number of experienced CSMs cannot scale proportionally. Each CSM can only manage a finite number of accounts, limiting proactive engagement and leading to burnout or missed signals for smaller, but still valuable, accounts.\n",
       "5.  **Lack of prescriptive action:** Even when a potential issue is identified, the path to resolution isn't always clear. It requires deep institutional knowledge and experience to diagnose, plan, and execute a comprehensive fix that prevents churn.\n",
       "\n",
       "This reactive, fragmented, and manual approach leads to higher churn rates, lower customer lifetime value (CLTV), increased operational costs, and ultimately, a less competitive position in the market.\n",
       "\n",
       "---\n",
       "\n",
       "### The Agentic AI Solution Concept: The \"Enterprise Success Agent\" (ESA)\n",
       "\n",
       "The Enterprise Success Agent (ESA) would be a sophisticated Agentic AI system designed to proactively monitor, diagnose, plan, and initiate resolution for complex customer issues, preventing churn before it occurs.\n",
       "\n",
       "**How the Agentic AI Solution Addresses the Pain Point:**\n",
       "\n",
       "The ESA would operate as follows:\n",
       "\n",
       "1.  **Perception & Monitoring:**\n",
       "    *   Continuously ingest and analyze real-time data from all relevant sources: CRM (customer notes, interaction history), product usage logs (feature adoption, error rates, performance metrics), support ticketing systems, sentiment analysis from call transcripts/emails, billing data, release notes, internal engineering alerts, and external news (e.g., for integrations).\n",
       "2.  **Reasoning & Diagnosis:**\n",
       "    *   Utilize advanced analytics and an LLM-powered reasoning engine to correlate disparate data points. For example, it might identify:\n",
       "        *   A sudden drop in usage of a key feature *after* a recent product update, combined with a slight increase in specific error codes.\n",
       "        *   A series of seemingly unrelated support tickets from different users within the same organization, pointing to an underlying configuration issue.\n",
       "        *   A long-term decline in active users for a specific module, correlated with a competitor's recent product launch.\n",
       "    *   Formulate a probabilistic diagnosis of the root cause.\n",
       "3.  **Planning & Strategy Generation:**\n",
       "    *   Based on the diagnosis and its vast knowledge base (product documentation, past successful resolutions, internal best practices), the ESA would generate a multi-step resolution plan. This plan would be tailored to the specific customer's context and the severity of the issue.\n",
       "    *   Example plan steps:\n",
       "        *   \"Run diagnostic script X on tenant Y.\"\n",
       "        *   \"Draft an initial email to CSM Z about potential issue, including key data points.\"\n",
       "        *   \"Open a bug ticket in Jira for engineering team A with detailed logs and reproduction steps.\"\n",
       "        *   \"Suggest a meeting between CSM and Product Manager for feature B.\"\n",
       "        *   \"Propose a proactive outreach campaign to the customer with relevant training materials or a temporary workaround.\"\n",
       "4.  **Action & Execution (with Human Oversight):**\n",
       "    *   The ESA would *initiate* actions. This is where the \"agentic\" part truly shines:\n",
       "        *   Execute automated diagnostic scripts via APIs.\n",
       "        *   Draft initial communications (emails, internal alerts) for human review and approval by the CSM.\n",
       "        *   Open tickets in relevant internal systems (Jira, Salesforce, Zendesk) pre-populated with all necessary information.\n",
       "        *   Schedule internal meetings or external customer calls, pre-populating agendas.\n",
       "        *   Trigger alerts to specific product or engineering teams based on defined thresholds.\n",
       "    *   It would monitor the progress of these actions, tracking the status of tickets, responses to communications, and changes in customer metrics.\n",
       "5.  **Learning & Adaptation:**\n",
       "    *   The ESA learns from the outcomes of its actions. If a resolution plan successfully prevents churn, it reinforces the strategies used. If it fails, the agent analyzes *why* and refines its diagnostic and planning models for future instances. This continuous feedback loop improves its effectiveness over time.\n",
       "\n",
       "---\n",
       "\n",
       "### What is Agentic AI (a brief definition)?\n",
       "\n",
       "Agentic AI refers to AI systems designed to act as **autonomous agents**. These agents can:\n",
       "\n",
       "1.  **Perceive:** Take in information from their environment (data streams, user input, system logs).\n",
       "2.  **Reason:** Process that information to understand context, diagnose problems, and formulate goals.\n",
       "3.  **Plan:** Develop multi-step strategies or sequences of actions to achieve those goals.\n",
       "4.  **Act:** Execute those plans by interacting with tools, APIs, or other systems, and sometimes by generating outputs (like text).\n",
       "5.  **Learn:** Adapt and improve their perception, reasoning, planning, and acting capabilities based on the outcomes of their actions and feedback from the environment.\n",
       "\n",
       "Crucially, agentic AI is about **autonomy** and **goal-oriented execution** over multiple steps, often iteratively, as opposed to single-shot responses.\n",
       "\n",
       "### How does it differ from traditional AI approaches (e.g., LLMs for summarization, image generation)?\n",
       "\n",
       "| Feature             | Traditional AI (e.g., LLMs for summarization, image gen)                                   | Agentic AI                                                                                              |\n",
       "| :------------------ | :------------------------------------------------------------------------------------------ | :------------------------------------------------------------------------------------------------------- |\n",
       "| **Primary Mode**    | **Reactive, single-turn generation/analysis**                                               | **Proactive, multi-turn, goal-oriented action & orchestration**                                          |\n",
       "| **Interaction**     | Input -> Output (e.g., prompt -> summary, text -> image). Little to no external interaction. | Interacts with external tools, APIs, databases, and other systems; can initiate actions.                  |\n",
       "| **Goal Pursuit**    | Implicitly fulfills the prompt's immediate request.                                         | Explicitly defines and pursues long-term, complex goals over multiple steps and iterations.               |\n",
       "| **Autonomy**        | Low; requires continuous human prompting for each new task.                                 | High; can independently plan and execute sequences of tasks, adapting as needed.                          |\n",
       "| **Learning**        | Primarily through initial training data; limited real-time adaptation post-deployment.      | Continuous learning from feedback loops, outcomes of actions, and new environmental data.                |\n",
       "| **Complexity**      | Solves well-defined, singular problems (e.g., text generation, classification).             | Solves open-ended, complex problems requiring decomposition into sub-tasks and dynamic adjustment.         |\n",
       "| **Example Use**     | Summarizing a document, answering a specific question, generating marketing copy.            | Diagnosing a system failure, planning a marketing campaign, managing a customer support workflow end-to-end. |\n",
       "\n",
       "### Benefits and Challenges of this Approach\n",
       "\n",
       "**Benefits:**\n",
       "\n",
       "*   **Proactive Problem Solving:** Shifts from reactive firefighting to predictive issue resolution, preventing churn before it starts.\n",
       "*   **Enhanced Efficiency & Speed:** Automates complex data synthesis, diagnosis, and initial action planning, freeing up human CSMs for high-value strategic interactions.\n",
       "*   **Scalability:** Allows a smaller team of human CSMs to manage a much larger portfolio of accounts effectively, ensuring no customer falls through the cracks.\n",
       "*   **Consistency & Best Practices:** Ensures a consistent, data-driven approach to customer success, applying best practices learned across the entire customer base.\n",
       "*   **Deeper Insights:** Can uncover hidden correlations and patterns in data that a human might miss due to volume and complexity.\n",
       "*   **Continuous Improvement:** The learning loop ensures the agent gets smarter and more effective over time.\n",
       "\n",
       "**Challenges:**\n",
       "\n",
       "*   **Safety & Control:** Ensuring the agent doesn't take unintended or harmful actions, especially when interacting with customer-facing systems or sensitive data. Requires robust human-in-the-loop oversight and clear boundaries.\n",
       "*   **Explainability & Trust:** It can be challenging to understand *why* an agent made a particular diagnosis or planned a specific set of actions, which is crucial for human trust and debugging.\n",
       "*   **Data Quality & Integration:** The success of the agent depends heavily on the quality, accessibility, and integration of vast amounts of diverse data from disparate systems. \"Garbage in, garbage out\" is amplified.\n",
       "*   **Ethical Considerations:** Potential for job displacement for some roles, and the ethical implications of autonomous decision-making that affects customer relationships.\n",
       "*   **Computational Cost:** Running complex, iterative AI models that constantly monitor and process vast data streams can be very resource-intensive.\n",
       "*   **Complexity of Development & Deployment:** Building and deploying a robust agentic AI system requires significant technical expertise in AI, software engineering, and domain knowledge.\n",
       "*   **Resistance to Change:** Human CSMs might initially resist reliance on an AI agent, fearing loss of control or job security. Effective change management is critical."
      ],
      "text/plain": [
       "<IPython.core.display.Markdown object>"
      ]
     },
     "metadata": {},
     "output_type": "display_data"
    }
   ],
   "source": [
    "from IPython.display import display, Markdown\n",
    "\n",
    "# And repeat!"
   ]
  },
  {
   "cell_type": "markdown",
   "metadata": {},
   "source": []
  }
 ],
 "metadata": {
  "kernelspec": {
   "display_name": ".venv",
   "language": "python",
   "name": "python3"
  },
  "language_info": {
   "codemirror_mode": {
    "name": "ipython",
    "version": 3
   },
   "file_extension": ".py",
   "mimetype": "text/x-python",
   "name": "python",
   "nbconvert_exporter": "python",
   "pygments_lexer": "ipython3",
   "version": "3.12.10"
  }
 },
 "nbformat": 4,
 "nbformat_minor": 2
}
